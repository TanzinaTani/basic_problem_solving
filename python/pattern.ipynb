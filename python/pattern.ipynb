{
 "cells": [
  {
   "cell_type": "code",
   "execution_count": 1,
   "metadata": {},
   "outputs": [
    {
     "name": "stdout",
     "output_type": "stream",
     "text": [
      "Enter the number: 6\n",
      "6 5 4 3 2 1 \n",
      "6 5 4 3 2 1 \n",
      "6 5 4 3 2 1 \n",
      "6 5 4 3 2 1 \n",
      "6 5 4 3 2 1 \n",
      "6 5 4 3 2 1 \n"
     ]
    }
   ],
   "source": [
    "num=int(input(\"Enter the number: \"))\n",
    "for i in range(1,num+1):\n",
    "    for j in range(num,0,-1):\n",
    "        print(j,end=\" \")\n",
    "    print()"
   ]
  },
  {
   "cell_type": "code",
   "execution_count": 2,
   "metadata": {},
   "outputs": [
    {
     "name": "stdout",
     "output_type": "stream",
     "text": [
      "Enter the number: 5\n",
      "1 \n",
      "1 2 \n",
      "1 2 3 \n",
      "1 2 3 4 \n",
      "1 2 3 4 5 \n"
     ]
    }
   ],
   "source": [
    "num=int(input(\"Enter the number: \"))\n",
    "for i in range(1,num+1):\n",
    "    for j in range(0,i):\n",
    "        print(j+1,end=\" \")\n",
    "    print()"
   ]
  },
  {
   "cell_type": "code",
   "execution_count": 3,
   "metadata": {},
   "outputs": [
    {
     "name": "stdout",
     "output_type": "stream",
     "text": [
      "Enter the number: 5\n",
      "1 \n",
      "1 2 \n",
      "1 2 3 \n",
      "1 2 3 4 \n",
      "1 2 3 4 5 \n",
      "1 2 3 4 \n",
      "1 2 3 \n",
      "1 2 \n",
      "1 \n"
     ]
    }
   ],
   "source": [
    "num=int(input(\"Enter the number: \"))\n",
    "for i in range(1,num+1):\n",
    "    for j in range(0,i):\n",
    "        print(j+1,end=\" \")\n",
    "    print()\n",
    "for i in range(1,num):\n",
    "    for j in range(1,num-i+1):\n",
    "        print(j,end=\" \")\n",
    "    print()\n"
   ]
  },
  {
   "cell_type": "code",
   "execution_count": 4,
   "metadata": {},
   "outputs": [
    {
     "name": "stdout",
     "output_type": "stream",
     "text": [
      "Enter the number: 5\n",
      "5 4 3 2 1 \n",
      "4 3 2 1 \n",
      "3 2 1 \n",
      "2 1 \n",
      "1 \n"
     ]
    }
   ],
   "source": [
    "num=int(input(\"Enter the number: \"))\n",
    "for i in range(1,num+1):\n",
    "    for j in range(num-i+1,0,-1):\n",
    "        print(j,end=\" \")\n",
    "    print()"
   ]
  },
  {
   "cell_type": "code",
   "execution_count": 5,
   "metadata": {},
   "outputs": [
    {
     "name": "stdout",
     "output_type": "stream",
     "text": [
      "Enter the number: 5\n",
      "5 4 3 2 1 \n",
      "4 3 2 1 \n",
      "3 2 1 \n",
      "2 1 \n",
      "1 \n",
      "2 1 \n",
      "3 2 1 \n",
      "4 3 2 1 \n",
      "5 4 3 2 1 \n"
     ]
    }
   ],
   "source": [
    "num=int(input(\"Enter the number: \"))\n",
    "for i in range(1,num+1):\n",
    "    for j in range(num-i+1,0,-1):\n",
    "        print(j,end=\" \")\n",
    "    print()\n",
    "for i in range(2,num+1):\n",
    "    for j in range(i,0,-1):\n",
    "        print(j,end=\" \")\n",
    "    print()"
   ]
  },
  {
   "cell_type": "code",
   "execution_count": 6,
   "metadata": {},
   "outputs": [
    {
     "name": "stdout",
     "output_type": "stream",
     "text": [
      "Enter the number: 5\n",
      "1 \n",
      "2 1 \n",
      "3 2 1 \n",
      "4 3 2 1 \n",
      "5 4 3 2 1 \n",
      "4 3 2 1 \n",
      "3 2 1 \n",
      "2 1 \n",
      "1 \n",
      "\n"
     ]
    }
   ],
   "source": [
    "num=int(input(\"Enter the number: \"))\n",
    "for i in range(1,num+1):\n",
    "    for j in range(i,0,-1):\n",
    "        print(j,end=\" \")\n",
    "    print()\n",
    "for i in range(1,num+1):\n",
    "    for j in range(num-i,0,-1):\n",
    "        print(j,end=\" \")\n",
    "    print()"
   ]
  },
  {
   "cell_type": "code",
   "execution_count": 7,
   "metadata": {},
   "outputs": [
    {
     "name": "stdout",
     "output_type": "stream",
     "text": [
      "Enter the number: 5\n",
      "*  \n",
      "*  *  \n",
      "*  *  *  \n",
      "*  *  *  *  \n",
      "*  *  *  *  *  \n",
      "*  *  *  *  \n",
      "*  *  *  \n",
      "*  *  \n",
      "*  \n",
      "\n"
     ]
    }
   ],
   "source": [
    "num=int(input(\"Enter the number: \"))\n",
    "for i in range(1,num+1):\n",
    "    for j in range(i,0,-1):\n",
    "        print(\"* \",end=\" \")\n",
    "    print()\n",
    "for i in range(1,num+1):\n",
    "    for j in range(num-i,0,-1):\n",
    "        print(\"* \",end=\" \")\n",
    "    print()"
   ]
  },
  {
   "cell_type": "code",
   "execution_count": 8,
   "metadata": {},
   "outputs": [
    {
     "name": "stdout",
     "output_type": "stream",
     "text": [
      "Enter the number: 5\n",
      "*  \n",
      "*  *  \n",
      "*  *  *  \n",
      "*  *  *  *  \n",
      "*  *  *  *  *  \n",
      "*  *  *  *  \n",
      "*  *  *  \n",
      "*  *  \n",
      "*  \n",
      "\n"
     ]
    }
   ],
   "source": [
    "num=int(input(\"Enter the number: \"))\n",
    "for i in range(1,num+1):\n",
    "    for j in range(1,i+1):\n",
    "        print(\"* \",end=\" \")\n",
    "    print()\n",
    "    \n",
    "for i in range(1,num+1):\n",
    "    for k in range(i,num):\n",
    "        print(\"* \",end=\" \")\n",
    "    print()"
   ]
  },
  {
   "cell_type": "code",
   "execution_count": 9,
   "metadata": {},
   "outputs": [
    {
     "name": "stdout",
     "output_type": "stream",
     "text": [
      "Enter the number: 5\n",
      "*  *  *  *  *  \n",
      "*  *  *  *  \n",
      "*  *  *  \n",
      "*  *  \n",
      "*  \n",
      "*  *  \n",
      "*  *  *  \n",
      "*  *  *  *  \n",
      "*  *  *  *  *  \n"
     ]
    }
   ],
   "source": [
    "num=int(input(\"Enter the number: \"))\n",
    "for i in range(1,num+1):\n",
    "    for j in range(i,num+1):\n",
    "        print(\"* \",end=\" \")\n",
    "    print()\n",
    "for i in range(2,num+1):\n",
    "    for j in range(1,i+1):\n",
    "        print(\"* \",end=\" \")\n",
    "    print()"
   ]
  },
  {
   "cell_type": "code",
   "execution_count": 10,
   "metadata": {},
   "outputs": [
    {
     "name": "stdout",
     "output_type": "stream",
     "text": [
      "Enter the number: 5\n",
      "        1 \n",
      "      1 2 \n",
      "    1 2 3 \n",
      "  1 2 3 4 \n",
      "1 2 3 4 5 \n"
     ]
    }
   ],
   "source": [
    "num=int(input(\"Enter the number: \"))\n",
    "k=num*2-2\n",
    "for i in range(1,num+1):\n",
    "    for k in range(1,k+1):\n",
    "        print(\" \",end=\"\")\n",
    "    k=k-2\n",
    "    for j in range(1,i+1):\n",
    "        print(j,end=\" \")\n",
    "    print()"
   ]
  },
  {
   "cell_type": "code",
   "execution_count": 11,
   "metadata": {},
   "outputs": [
    {
     "name": "stdout",
     "output_type": "stream",
     "text": [
      "Enter the number: 9\n",
      "                1 \n",
      "              2 1 \n",
      "            3 2 1 \n",
      "          4 3 2 1 \n",
      "        5 4 3 2 1 \n",
      "      6 5 4 3 2 1 \n",
      "    7 6 5 4 3 2 1 \n",
      "  8 7 6 5 4 3 2 1 \n",
      "9 8 7 6 5 4 3 2 1 \n"
     ]
    }
   ],
   "source": [
    "num=int(input(\"Enter the number: \"))\n",
    "k=num*2-2\n",
    "for i in range(1,num+1):\n",
    "    for k in range(1,k+1):\n",
    "        print(\" \",end=\"\")\n",
    "    k=k-2\n",
    "    for j in range(i,0,-1):\n",
    "        print(j,end=\" \")\n",
    "    print()"
   ]
  },
  {
   "cell_type": "code",
   "execution_count": 12,
   "metadata": {},
   "outputs": [
    {
     "name": "stdout",
     "output_type": "stream",
     "text": [
      "Enter the number: 9\n",
      "                1 \n",
      "              1 2 \n",
      "            1 2 3 \n",
      "          1 2 3 4 \n",
      "        1 2 3 4 5 \n",
      "      1 2 3 4 5 6 \n",
      "    1 2 3 4 5 6 7 \n",
      "  1 2 3 4 5 6 7 8 \n",
      "1 2 3 4 5 6 7 8 9 \n",
      "  1 2 3 4 5 6 7 8 \n",
      "    1 2 3 4 5 6 7 \n",
      "      1 2 3 4 5 6 \n",
      "        1 2 3 4 5 \n",
      "          1 2 3 4 \n",
      "            1 2 3 \n",
      "              1 2 \n",
      "                1 \n"
     ]
    }
   ],
   "source": [
    "num=int(input(\"Enter the number: \"))\n",
    "k=num*2-2\n",
    "for i in range(1,num+1):\n",
    "    for k in range(1,k+1):\n",
    "        print(\" \",end=\"\")\n",
    "    k=k-2\n",
    "    for j in range(1,i+1):\n",
    "        print(j,end=\" \")\n",
    "    print()\n",
    "k=2\n",
    "for i in range(1,num):\n",
    "    for k in range(1,k+1):\n",
    "        print(\" \",end=\"\")\n",
    "    k=k+2\n",
    "    for j in range(1,num-i+1):\n",
    "        print(j,end=\" \")\n",
    "    print()"
   ]
  },
  {
   "cell_type": "markdown",
   "metadata": {},
   "source": [
    "##### "
   ]
  },
  {
   "cell_type": "code",
   "execution_count": 13,
   "metadata": {},
   "outputs": [
    {
     "name": "stdout",
     "output_type": "stream",
     "text": [
      "Enter the number: 6\n",
      "          1 \n",
      "        2 1 \n",
      "      3 2 1 \n",
      "    4 3 2 1 \n",
      "  5 4 3 2 1 \n",
      "6 5 4 3 2 1 \n",
      "  5 4 3 2 1 \n",
      "    4 3 2 1 \n",
      "      3 2 1 \n",
      "        2 1 \n",
      "          1 \n",
      "            \n"
     ]
    }
   ],
   "source": [
    "num=int(input(\"Enter the number: \"))\n",
    "k=num*2-2\n",
    "for i in range(1,num+1):\n",
    "    for k in range(1,k+1):\n",
    "        print(\" \",end=\"\")\n",
    "    k=k-2\n",
    "    for j in range(i,0,-1):\n",
    "        print(j,end=\" \")\n",
    "    print()\n",
    "k=2\n",
    "for i in range(1,num+1):\n",
    "    for k in range(1,k+1):\n",
    "        print(\" \",end=\"\")\n",
    "    k=k+2\n",
    "    for j in range(num-i,0,-1):\n",
    "        print(j,end=\" \")\n",
    "    print()"
   ]
  },
  {
   "cell_type": "code",
   "execution_count": 14,
   "metadata": {},
   "outputs": [
    {
     "name": "stdout",
     "output_type": "stream",
     "text": [
      "Enter the input: 8\n",
      "1 1 1 1 1 1 1 1 \n",
      " 2 2 2 2 2 2 2 \n",
      "  3 3 3 3 3 3 \n",
      "   4 4 4 4 4 \n",
      "    5 5 5 5 \n",
      "     6 6 6 \n",
      "      7 7 \n",
      "       8 \n"
     ]
    }
   ],
   "source": [
    "n=int(input(\"Enter the input: \"))\n",
    "k=1\n",
    "for i in range(1,n+1):\n",
    "    for j in range(1,k):\n",
    "        print(\" \",end=\"\")\n",
    "    k=k+1\n",
    "    for j in range(i,n+1):\n",
    "        print(i,end=\" \")\n",
    "    print()\n",
    "    "
   ]
  },
  {
   "cell_type": "code",
   "execution_count": 15,
   "metadata": {},
   "outputs": [
    {
     "name": "stdout",
     "output_type": "stream",
     "text": [
      "Enter the input: 7\n",
      "1 \n",
      "1 0 \n",
      "1 0 1 \n",
      "1 0 1 0 \n",
      "1 0 1 0 1 \n",
      "1 0 1 0 1 0 \n",
      "1 0 1 0 1 0 1 \n"
     ]
    }
   ],
   "source": [
    "n=int(input(\"Enter the input: \"))\n",
    "for i in range(1,n+1):\n",
    "    for j in range(1,i+1):\n",
    "        if(j%2==1):\n",
    "            print(1,end=\" \")\n",
    "        else:\n",
    "            print(0,end=\" \")\n",
    "    print()"
   ]
  },
  {
   "cell_type": "code",
   "execution_count": 16,
   "metadata": {},
   "outputs": [
    {
     "name": "stdout",
     "output_type": "stream",
     "text": [
      "Enter the input: 7\n",
      "      *\n",
      "     ***\n",
      "    *****\n",
      "   *******\n",
      "  *********\n",
      " ***********\n",
      "*************\n"
     ]
    }
   ],
   "source": [
    "n=int(input(\"Enter the input: \"))\n",
    "k=n-1\n",
    "for i in range(1,n+1):\n",
    "    for j in range(1,k+1):\n",
    "        print(\" \",end=\"\")\n",
    "    k=k-1\n",
    "    for j in range(1,i*2):\n",
    "        print(\"*\",end=(\"\"))\n",
    "    print()"
   ]
  },
  {
   "cell_type": "code",
   "execution_count": 17,
   "metadata": {},
   "outputs": [
    {
     "name": "stdout",
     "output_type": "stream",
     "text": [
      "Enter the input: 5\n",
      "    *\n",
      "   ***\n",
      "  *****\n",
      " *******\n",
      "*********\n",
      " *******\n",
      "  *****\n",
      "   ***\n",
      "    *\n"
     ]
    }
   ],
   "source": [
    "n=int(input(\"Enter the input: \"))\n",
    "k=n-1\n",
    "for i in range(1,n+1):\n",
    "    for j in range(1,k+1):\n",
    "        print(\" \",end=\"\")\n",
    "    k=k-1\n",
    "    for j in range(1,i*2):\n",
    "        print(\"*\",end=(\"\"))\n",
    "    print()\n",
    "k=1\n",
    "for i in range(n-1,0,-1):\n",
    "    for j in range(1,k+1):\n",
    "        print(\" \",end=\"\")\n",
    "    k=k+1\n",
    "    for j in range(1,i*2):\n",
    "        print(\"*\",end=(\"\"))\n",
    "    print()"
   ]
  },
  {
   "cell_type": "code",
   "execution_count": 18,
   "metadata": {},
   "outputs": [
    {
     "name": "stdout",
     "output_type": "stream",
     "text": [
      "Enter the input: 5\n",
      "12345\n",
      "-2345\n",
      "--345\n",
      "---45\n",
      "----5\n"
     ]
    }
   ],
   "source": [
    "n=int(input(\"Enter the input: \"))\n",
    "k=1\n",
    "for i in range(1,n+1):\n",
    "    for j in range(1,k):\n",
    "        print(end=\"-\")\n",
    "    k=k+1\n",
    "    for j in range(i,n+1):\n",
    "        print(j,end=(\"\"))\n",
    "    print()\n"
   ]
  },
  {
   "cell_type": "code",
   "execution_count": 19,
   "metadata": {},
   "outputs": [
    {
     "name": "stdout",
     "output_type": "stream",
     "text": [
      "Enter the input: 7\n",
      "1234567\n",
      " 234567\n",
      "  34567\n",
      "   4567\n",
      "    567\n",
      "     67\n",
      "      7\n",
      "     67\n",
      "    567\n",
      "   4567\n",
      "  34567\n",
      " 234567\n",
      "1234567\n"
     ]
    }
   ],
   "source": [
    "num=int(input(\"Enter the input: \"))\n",
    "k=1\n",
    "for i in range(1,num+1):\n",
    "    for j in range(1,k):\n",
    "        print(end=\" \")\n",
    "    k=k+1\n",
    "    for j in range(i,num+1):\n",
    "        print(j,end=\"\")\n",
    "    \n",
    "    print()\n",
    "k=num-1\n",
    "for i in range(1,num):\n",
    "    for j in range(1,k):\n",
    "        print(end=\" \")\n",
    "    k=k-1\n",
    "    for j in range(num-i,num+1):\n",
    "        print(j,end=\"\")\n",
    "    \n",
    "    print()"
   ]
  },
  {
   "cell_type": "code",
   "execution_count": 20,
   "metadata": {},
   "outputs": [
    {
     "name": "stdout",
     "output_type": "stream",
     "text": [
      "Enter the input: 7\n",
      "0000000\n",
      "0100000\n",
      "0020000\n",
      "0003000\n",
      "0000400\n",
      "0000050\n",
      "0000006\n"
     ]
    }
   ],
   "source": [
    "num=int(input(\"Enter the input: \"))\n",
    "for i in range(0,num):\n",
    "    for j in range(0,num):\n",
    "        if(i==j):\n",
    "            print(j,end=\"\")\n",
    "        else:\n",
    "            print(0,end=\"\")\n",
    "    print()"
   ]
  },
  {
   "cell_type": "code",
   "execution_count": 21,
   "metadata": {},
   "outputs": [
    {
     "name": "stdout",
     "output_type": "stream",
     "text": [
      "Enter the input: 5\n",
      "1 \n",
      "2 6 \n",
      "3 7 10 \n",
      "4 8 11 13 \n",
      "5 9 12 14 15 \n"
     ]
    }
   ],
   "source": [
    "num=int(input(\"Enter the input: \"))\n",
    "for i in range(1,num+1):\n",
    "    p=num-1\n",
    "    c=i\n",
    "    for j in range(1,i+1):\n",
    "        print(c,end=\" \")\n",
    "        c=c+p\n",
    "        p=p-1\n",
    "    print()\n"
   ]
  },
  {
   "cell_type": "code",
   "execution_count": 23,
   "metadata": {},
   "outputs": [
    {
     "name": "stdout",
     "output_type": "stream",
     "text": [
      "Enter the input: 15\n",
      "4  \n",
      "6  \n",
      "8  \n",
      "9  \n",
      "10  \n",
      "12  \n",
      "14  \n",
      "15  \n"
     ]
    }
   ],
   "source": [
    "num=int(input(\"Enter the input: \"))\n",
    "fac = 0\n",
    "for i in range(1,num+1):\n",
    "    for j in range(1,i):\n",
    "        if(i%j)==0:\n",
    "            fac=j\n",
    "    if(fac>1):\n",
    "        print(i,\" \")"
   ]
  },
  {
   "cell_type": "code",
   "execution_count": 24,
   "metadata": {},
   "outputs": [
    {
     "name": "stdout",
     "output_type": "stream",
     "text": [
      "Enter the number of line : 7\n",
      "Enter the limit of numbers per line : 5\n",
      "Odd line( 1 ): 1 3 5 7 9 \n",
      "Even line( 2 ): 2 4 6 8 10 \n",
      "Odd line( 3 ): 3 5 7 9 11 \n",
      "Even line( 4 ): 4 6 8 10 12 \n",
      "Odd line( 5 ): 5 7 9 11 13 \n",
      "Even line( 6 ): 6 8 10 12 14 \n",
      "Odd line( 7 ): 7 9 11 13 15 \n"
     ]
    }
   ],
   "source": [
    "num=int(input(\"Enter the number of line : \"))\n",
    "line=int(input(\"Enter the limit of numbers per line : \"))\n",
    "\n",
    "for i in range(1,num+1):\n",
    "    if(i%2)==0:\n",
    "        c=i\n",
    "        print(\"Even line(\",i,\"): \",end=\"\")\n",
    "        for j in range(i,line+line+c):\n",
    "            if(j%2)==0:\n",
    "                print(j,end=\" \")\n",
    "        print()\n",
    "    if(i%2)==1:\n",
    "        p=i\n",
    "        print(\"Odd line(\",i,\"): \",end=\"\")\n",
    "        for j in range(i,line+line+p):\n",
    "            if(j%2)==1:\n",
    "                print(j,end=\" \")\n",
    "        print()\n",
    "             "
   ]
  },
  {
   "cell_type": "code",
   "execution_count": 25,
   "metadata": {},
   "outputs": [
    {
     "name": "stdout",
     "output_type": "stream",
     "text": [
      "Enter starting year: 2000\n",
      "Enter ending year: 2021\n",
      "leap year between 2000 to 2021\n",
      "2000\n",
      "2004\n",
      "2008\n",
      "2012\n",
      "2016\n",
      "2020\n"
     ]
    }
   ],
   "source": [
    "num1=int(input(\"Enter starting year: \"))\n",
    "num2=int(input(\"Enter ending year: \"))\n",
    "print(\"leap year between {} to {}\".format(num1,num2))\n",
    "for i in range(num1,num2+1):\n",
    "    if(i%4==0) and  (i%100!=0) or (i%100==0 and i%400==0) or (i%400==0):\n",
    "        print(i)"
   ]
  },
  {
   "cell_type": "code",
   "execution_count": 26,
   "metadata": {},
   "outputs": [
    {
     "name": "stdout",
     "output_type": "stream",
     "text": [
      "Enter number: 20\n",
      "1\n",
      "2\n",
      "3\n",
      "5\n",
      "7\n",
      "11\n",
      "13\n",
      "17\n",
      "19\n"
     ]
    }
   ],
   "source": [
    "num=int(input(\"Enter number: \"))\n",
    "for i in range(1,num+1):\n",
    "        for j in range(2,i):\n",
    "            if(i%j==0):\n",
    "                break\n",
    "        else:\n",
    "            print(i)"
   ]
  },
  {
   "cell_type": "code",
   "execution_count": 27,
   "metadata": {},
   "outputs": [
    {
     "name": "stdout",
     "output_type": "stream",
     "text": [
      "Enter number: 10\n",
      "factorial num 1: 1\n",
      "factorial num 2: 2\n",
      "factorial num 3: 6\n",
      "factorial num 4: 24\n",
      "factorial num 5: 120\n",
      "factorial num 6: 720\n",
      "factorial num 7: 5040\n",
      "factorial num 8: 40320\n",
      "factorial num 9: 362880\n",
      "factorial num 10: 3628800\n"
     ]
    }
   ],
   "source": [
    "num=int(input(\"Enter number: \"))\n",
    "fac=1\n",
    "for i in range(1,num+1):\n",
    "    fac=fac*i\n",
    "    print(\"factorial num {}: {}\".format(i,fac))"
   ]
  },
  {
   "cell_type": "code",
   "execution_count": 28,
   "metadata": {},
   "outputs": [
    {
     "name": "stdout",
     "output_type": "stream",
     "text": [
      "9  is prime\n",
      "7  is prime\n",
      "3  is prime\n",
      "362880\n",
      "5040\n",
      "6\n"
     ]
    }
   ],
   "source": [
    "num=int(379)\n",
    "\n",
    "x=num%10\n",
    "y=num%100\n",
    "c=int((y-x)/10)\n",
    "a=int((num-c)/100)\n",
    "arr=[x,c,a]\n",
    "fact=int(1)\n",
    "for j in arr:\n",
    "    if(j%2==0):\n",
    "        break\n",
    "    else:\n",
    "        print(j,\" is prime\")\n",
    "    \n",
    "for i in range(1,x+1):\n",
    "    fact=fact*i\n",
    "print(fact)\n",
    "fact=int(1)\n",
    "for i in range(1,c+1):\n",
    "    fact=fact*i\n",
    "print(fact)\n",
    "fact=int(1)\n",
    "for i in range(1,a+1):\n",
    "    fact=fact*i\n",
    "print(fact)"
   ]
  },
  {
   "cell_type": "code",
   "execution_count": 29,
   "metadata": {},
   "outputs": [
    {
     "name": "stdout",
     "output_type": "stream",
     "text": [
      "enter value: 8973\n",
      "3 ! 6 prime\n",
      "7 ! 5040 prime\n",
      "9 ! 362880 not prime\n",
      "8 ! 40320 not prime\n"
     ]
    }
   ],
   "source": [
    "n=input(\"enter value: \")\n",
    "n=int(n)\n",
    "fac=1\n",
    "c=0\n",
    "while n>0:\n",
    "    x=n%10\n",
    "    n=n/10\n",
    "    x=int(x)\n",
    "    n=int(n)\n",
    "    print(x,\"! \",end=\"\")\n",
    "    for i in range(1,x+1):\n",
    "        fac=fac*i\n",
    "    print(fac,end=\" \")\n",
    "    fac=1\n",
    "    for j in range(2,x):\n",
    "        if x%j==0:\n",
    "            c=c+1\n",
    "    if c==0:\n",
    "        print(\"prime\")\n",
    "    else:\n",
    "        print(\"not prime\")"
   ]
  },
  {
   "cell_type": "code",
   "execution_count": 30,
   "metadata": {},
   "outputs": [
    {
     "name": "stdout",
     "output_type": "stream",
     "text": [
      "Enter how many elements you want:5\n",
      "Enter numbers in array: \n",
      "num :4\n",
      "num :5\n",
      "num :11\n",
      "num :2\n",
      "num :6\n",
      "ARRAY:  [4, 5, 11, 2, 6]\n",
      "sum :  28\n"
     ]
    }
   ],
   "source": [
    "num_array = list()\n",
    "num = int(input(\"Enter how many elements you want:\"))\n",
    "print ('Enter numbers in array: ')\n",
    "for i in range(num):\n",
    "    n = int(input(\"num :\"))\n",
    "    num_array.append(n)\n",
    "print(\"ARRAY: \",num_array)\n",
    "sum=int(0)\n",
    "for i in range(num):\n",
    "    sum=sum+num_array[i]\n",
    "print(\"sum : \",sum) "
   ]
  },
  {
   "cell_type": "code",
   "execution_count": 47,
   "metadata": {},
   "outputs": [
    {
     "name": "stdout",
     "output_type": "stream",
     "text": [
      "Enter how many elements you want:5\n",
      "Enter numbers in array: \n",
      "num :3\n",
      "num :4\n",
      "num :5\n",
      "num :7\n",
      "num :3\n",
      "ARRAY:  [3, 4, 5, 7, 3]\n",
      "sum :  11\n"
     ]
    }
   ],
   "source": [
    "num_array = list()\n",
    "num = int(input(\"Enter how many elements you want:\"))\n",
    "print ('Enter numbers in array: ')\n",
    "for i in range(num):\n",
    "    n = int(input(\"num :\"))\n",
    "    num_array.append(n)\n",
    "print(\"ARRAY: \",num_array)\n",
    "sum=int(0)\n",
    "for i in range(num):\n",
    "    if(i%2==0):\n",
    "        sum=sum+num_array[i]\n",
    "print(\"sum : \",sum) "
   ]
  },
  {
   "cell_type": "code",
   "execution_count": 8,
   "metadata": {},
   "outputs": [
    {
     "name": "stdout",
     "output_type": "stream",
     "text": [
      "Enter the number: 5\n",
      "4\n",
      "6\n",
      "8\n",
      "9\n",
      "3\n",
      "5\n",
      "max element 9 index 3\n",
      "min element 3 index 4\n"
     ]
    }
   ],
   "source": [
    "num=int(input(\"Enter the number: \"))\n",
    "import numpy as np\n",
    "arr=list()\n",
    "for i in range(1,num+1):\n",
    "    n=int(input())\n",
    "    arr.append(n)\n",
    "ar=len(arr)\n",
    "print(ar)\n",
    "for i in range(ar):\n",
    "    p=arr.index(max(arr))\n",
    "print(\"max element {} index {}\".format(max(arr),p))\n",
    "for j in range(ar):\n",
    "    p=min(arr)\n",
    "    r=arr.index(min(arr))\n",
    "print(\"min element {} index {}\".format(p,r))"
   ]
  },
  {
   "cell_type": "markdown",
   "metadata": {},
   "source": [
    "#### "
   ]
  }
 ],
 "metadata": {
  "kernelspec": {
   "display_name": "Python 3",
   "language": "python",
   "name": "python3"
  },
  "language_info": {
   "codemirror_mode": {
    "name": "ipython",
    "version": 3
   },
   "file_extension": ".py",
   "mimetype": "text/x-python",
   "name": "python",
   "nbconvert_exporter": "python",
   "pygments_lexer": "ipython3",
   "version": "3.7.1"
  }
 },
 "nbformat": 4,
 "nbformat_minor": 4
}
