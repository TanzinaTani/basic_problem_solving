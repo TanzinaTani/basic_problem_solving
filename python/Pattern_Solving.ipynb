{
 "cells": [
  {
   "cell_type": "code",
   "execution_count": 1,
   "metadata": {},
   "outputs": [
    {
     "name": "stdout",
     "output_type": "stream",
     "text": [
      "Enter the input: 5\n",
      "5  4  3  2  1  \n",
      "5  4  3  2  1  \n",
      "5  4  3  2  1  \n",
      "5  4  3  2  1  \n"
     ]
    }
   ],
   "source": [
    "num=int(input(\"Enter the input: \"))\n",
    "for i in range(1,num):\n",
    "    for j in range(num,0,-1):\n",
    "        print(j,\" \",end=\"\")\n",
    "    print()"
   ]
  },
  {
   "cell_type": "code",
   "execution_count": 2,
   "metadata": {},
   "outputs": [
    {
     "name": "stdout",
     "output_type": "stream",
     "text": [
      "Enter the input: 8\n",
      "1  \n",
      "1  2  \n",
      "1  2  3  \n",
      "1  2  3  4  \n",
      "1  2  3  4  5  \n",
      "1  2  3  4  5  6  \n",
      "1  2  3  4  5  6  7  \n",
      "1  2  3  4  5  6  7  8  \n"
     ]
    }
   ],
   "source": [
    "num=int(input(\"Enter the input: \"))\n",
    "for i in range(1,num+1):\n",
    "    for j in range(1,i+1):\n",
    "        print(j,\" \",end=\"\")\n",
    "    print()"
   ]
  },
  {
   "cell_type": "code",
   "execution_count": 3,
   "metadata": {},
   "outputs": [
    {
     "name": "stdout",
     "output_type": "stream",
     "text": [
      "Enter the input: 8\n",
      "1  \n",
      "1  2  \n",
      "1  2  3  \n",
      "1  2  3  4  \n",
      "1  2  3  4  5  \n",
      "1  2  3  4  5  6  \n",
      "1  2  3  4  5  6  7  \n",
      "1  2  3  4  5  6  7  8  \n",
      "1  2  3  4  5  6  7  \n",
      "1  2  3  4  5  6  \n",
      "1  2  3  4  5  \n",
      "1  2  3  4  \n",
      "1  2  3  \n",
      "1  2  \n",
      "1  \n"
     ]
    }
   ],
   "source": [
    "num=int(input(\"Enter the input: \"))\n",
    "for i in range(1,num+1):\n",
    "    for j in range(1,i+1):\n",
    "        print(j,\" \",end=\"\")\n",
    "    print()\n",
    "for i in range(num,1,-1):\n",
    "    for j in range(1,i):\n",
    "        print(j,\" \",end=\"\")\n",
    "    print()"
   ]
  },
  {
   "cell_type": "code",
   "execution_count": 4,
   "metadata": {},
   "outputs": [
    {
     "name": "stdout",
     "output_type": "stream",
     "text": [
      "Enter the input: 8\n",
      "8  7  6  5  4  3  2  1  \n",
      "7  6  5  4  3  2  1  \n",
      "6  5  4  3  2  1  \n",
      "5  4  3  2  1  \n",
      "4  3  2  1  \n",
      "3  2  1  \n",
      "2  1  \n",
      "1  \n",
      "\n"
     ]
    }
   ],
   "source": [
    "num=int(input(\"Enter the input: \"))\n",
    "for i in range(num+1,0,-1):\n",
    "    for j in range(i-1,0,-1):\n",
    "        print(j,\" \",end=\"\")\n",
    "    print()"
   ]
  },
  {
   "cell_type": "code",
   "execution_count": 5,
   "metadata": {},
   "outputs": [
    {
     "name": "stdout",
     "output_type": "stream",
     "text": [
      "Enter the input: 8\n",
      "8   7   6   5   4   3   2   1   \n",
      "7   6   5   4   3   2   1   \n",
      "6   5   4   3   2   1   \n",
      "5   4   3   2   1   \n",
      "4   3   2   1   \n",
      "3   2   1   \n",
      "2   1   \n",
      "1   \n",
      "2   1   \n",
      "3   2   1   \n",
      "4   3   2   1   \n",
      "5   4   3   2   1   \n",
      "6   5   4   3   2   1   \n",
      "7   6   5   4   3   2   1   \n",
      "8   7   6   5   4   3   2   1   \n"
     ]
    }
   ],
   "source": [
    "num=int(input(\"Enter the input: \"))\n",
    "for i in range(0,num):\n",
    "    for j in range(num-i,0,-1):\n",
    "        print(j,\" \",end=\" \")\n",
    "    print()\n",
    "for i in range(2,num+1):\n",
    "    for j in range(i,0,-1):\n",
    "        print(j,\" \",end=\" \")\n",
    "    print()"
   ]
  },
  {
   "cell_type": "code",
   "execution_count": 6,
   "metadata": {},
   "outputs": [
    {
     "name": "stdout",
     "output_type": "stream",
     "text": [
      "Enter the input: 8\n",
      "       * \n",
      "      * * \n",
      "     * * * \n",
      "    * * * * \n",
      "   * * * * * \n",
      "  * * * * * * \n",
      " * * * * * * * \n",
      "* * * * * * * * \n"
     ]
    }
   ],
   "source": [
    "def Pattern_check():\n",
    "    num=int(input(\"Enter the input: \"))\n",
    "    k=num\n",
    "    for i in range(0,num):\n",
    "        for j in range(1,k):\n",
    "            print(end=\" \")\n",
    "        k=k-1\n",
    "        for j in range(0,i+1):\n",
    "            print( \"*\",end=\" \")\n",
    "        print()\n",
    "    \n",
    "        \n",
    "Pattern_check()"
   ]
  },
  {
   "cell_type": "code",
   "execution_count": 7,
   "metadata": {},
   "outputs": [
    {
     "name": "stdout",
     "output_type": "stream",
     "text": [
      "Enter the input: 8\n",
      "1   \n",
      "2   1   \n",
      "3   2   1   \n",
      "4   3   2   1   \n",
      "5   4   3   2   1   \n",
      "6   5   4   3   2   1   \n",
      "7   6   5   4   3   2   1   \n",
      "8   7   6   5   4   3   2   1   \n",
      "7   6   5   4   3   2   1   \n",
      "6   5   4   3   2   1   \n",
      "5   4   3   2   1   \n",
      "4   3   2   1   \n",
      "3   2   1   \n",
      "2   1   \n",
      "1   \n",
      "\n"
     ]
    }
   ],
   "source": [
    "num=int(input(\"Enter the input: \"))\n",
    "for i in range(1,num+1):\n",
    "    for j in range(i,0,-1):\n",
    "        print(j,\" \",end=\" \")\n",
    "    print()\n",
    "\n",
    "for i in range(1,num+1):\n",
    "    for j in range(num-i,0,-1):\n",
    "        print(j,\" \",end=\" \")\n",
    "    print()"
   ]
  },
  {
   "cell_type": "code",
   "execution_count": 8,
   "metadata": {},
   "outputs": [
    {
     "name": "stdout",
     "output_type": "stream",
     "text": [
      "Enter the input: 8\n",
      "* \n",
      "* * \n",
      "* * * \n",
      "* * * * \n",
      "* * * * * \n",
      "* * * * * * \n",
      "* * * * * * * \n",
      "* * * * * * * * \n",
      "* * * * * * * \n",
      "* * * * * * \n",
      "* * * * * \n",
      "* * * * \n",
      "* * * \n",
      "* * \n",
      "* \n",
      "\n"
     ]
    }
   ],
   "source": [
    "num=int(input(\"Enter the input: \"))\n",
    "for i in range(1,num+1):\n",
    "    for j in range(i,0,-1):\n",
    "        print(\"*\",end=\" \")\n",
    "    print()\n",
    "\n",
    "for i in range(1,num+1):\n",
    "    for j in range(num-i,0,-1):\n",
    "        print(\"*\",end=\" \")\n",
    "    print()"
   ]
  },
  {
   "cell_type": "code",
   "execution_count": 9,
   "metadata": {},
   "outputs": [
    {
     "name": "stdout",
     "output_type": "stream",
     "text": [
      "Enter the input: 6\n",
      "* * * * * * \n",
      "* * * * * \n",
      "* * * * \n",
      "* * * \n",
      "* * \n",
      "* \n",
      "* * \n",
      "* * * \n",
      "* * * * \n",
      "* * * * * \n",
      "* * * * * * \n"
     ]
    }
   ],
   "source": [
    "num=int(input(\"Enter the input: \"))\n",
    "for i in range(0,num):\n",
    "    for j in range(num-i,0,-1):\n",
    "        print(\"*\",end=\" \")\n",
    "    print()\n",
    "for i in range(2,num+1):\n",
    "    for j in range(i,0,-1):\n",
    "        print(\"*\",end=\" \")\n",
    "    print()"
   ]
  },
  {
   "cell_type": "code",
   "execution_count": 10,
   "metadata": {},
   "outputs": [
    {
     "name": "stdout",
     "output_type": "stream",
     "text": [
      "Enter the input: 6\n",
      "          1  \n",
      "        1  2  \n",
      "      1  2  3  \n",
      "    1  2  3  4  \n",
      "  1  2  3  4  5  \n",
      "1  2  3  4  5  6  \n"
     ]
    }
   ],
   "source": [
    "num=int(input(\"Enter the input: \"))\n",
    "k=2*num-2\n",
    "for i in range(1,num+1):\n",
    "    for j in range(0,k):\n",
    "        print(end=\" \")\n",
    "    k=k-2\n",
    "    for j in range(1,i+1):\n",
    "        print(j,\" \",end=\"\")\n",
    "    print()"
   ]
  },
  {
   "cell_type": "code",
   "execution_count": 11,
   "metadata": {},
   "outputs": [
    {
     "name": "stdout",
     "output_type": "stream",
     "text": [
      "Enter the input: 6\n",
      "          1 \n",
      "        1 2 \n",
      "      1 2 3 \n",
      "    1 2 3 4 \n",
      "  1 2 3 4 5 \n",
      "1 2 3 4 5 6 \n"
     ]
    }
   ],
   "source": [
    "num=int(input(\"Enter the input: \"))\n",
    "k=2*num-2\n",
    "for i in range(1,num+1):\n",
    "    for j in range(1,k+1):\n",
    "        print(end=\" \")\n",
    "    k=k-2\n",
    "    for j in range(1,i+1):\n",
    "        print(j,end=\" \")\n",
    "    print()"
   ]
  },
  {
   "cell_type": "code",
   "execution_count": 12,
   "metadata": {},
   "outputs": [
    {
     "name": "stdout",
     "output_type": "stream",
     "text": [
      "Enter the input: 6\n",
      "          1 \n",
      "        2 1 \n",
      "      3 2 1 \n",
      "    4 3 2 1 \n",
      "  5 4 3 2 1 \n",
      "6 5 4 3 2 1 \n"
     ]
    }
   ],
   "source": [
    "num=int(input(\"Enter the input: \"))\n",
    "k=2*num-2\n",
    "for i in range(1,num+1):\n",
    "    for j in range(1,k+1):\n",
    "        print(end=\" \")\n",
    "    k=k-2\n",
    "    for j in range(i,0,-1):\n",
    "        print(j,end=\" \")\n",
    "    print()"
   ]
  },
  {
   "cell_type": "code",
   "execution_count": 13,
   "metadata": {},
   "outputs": [
    {
     "name": "stdout",
     "output_type": "stream",
     "text": [
      "Enter the input: 6\n",
      "          1 \n",
      "        1 2 \n",
      "      1 2 3 \n",
      "    1 2 3 4 \n",
      "  1 2 3 4 5 \n",
      "1 2 3 4 5 6 \n",
      "  1 2 3 4 5 \n",
      "    1 2 3 4 \n",
      "      1 2 3 \n",
      "        1 2 \n",
      "          1 \n"
     ]
    }
   ],
   "source": [
    "num=int(input(\"Enter the input: \"))\n",
    "k=2*num-2\n",
    "for i in range(1,num+1):\n",
    "    for j in range(1,k+1):\n",
    "        print(end=\" \")\n",
    "    k=k-2\n",
    "    for j in range(1,i+1):\n",
    "        print(j,end=\" \")\n",
    "    print()\n",
    "k=2\n",
    "for i in range(1,num):\n",
    "    for j in range(1,k+1):\n",
    "        print(end=\" \")\n",
    "    k=k+2\n",
    "    for j in range(1,num-i+1):\n",
    "        print(j,end=\" \")\n",
    "    \n",
    "    print()"
   ]
  },
  {
   "cell_type": "code",
   "execution_count": 14,
   "metadata": {},
   "outputs": [
    {
     "name": "stdout",
     "output_type": "stream",
     "text": [
      "Enter the input: 6\n",
      "          1 \n",
      "        2 1 \n",
      "      3 2 1 \n",
      "    4 3 2 1 \n",
      "  5 4 3 2 1 \n",
      "6 5 4 3 2 1 \n",
      "  5 4 3 2 1 \n",
      "    4 3 2 1 \n",
      "      3 2 1 \n",
      "        2 1 \n",
      "          1 \n"
     ]
    }
   ],
   "source": [
    "num=int(input(\"Enter the input: \"))\n",
    "k=2*num-2\n",
    "for i in range(1,num+1):\n",
    "    for j in range(1,k+1):\n",
    "        print(end=\" \")\n",
    "    k=k-2\n",
    "    for j in range(i,0,-1):\n",
    "        print(j,end=\" \")\n",
    "    print()\n",
    "k=2\n",
    "for i in range(1,num):\n",
    "    for j in range(1,k+1):\n",
    "        print(end=\" \")\n",
    "    k=k+2\n",
    "    for j in range(num-i,0,-1):\n",
    "        print(j,end=\" \")\n",
    "    \n",
    "    print()"
   ]
  },
  {
   "cell_type": "code",
   "execution_count": 15,
   "metadata": {},
   "outputs": [
    {
     "name": "stdout",
     "output_type": "stream",
     "text": [
      "Enter the input: 6\n",
      "123456\n",
      " 23456\n",
      "  3456\n",
      "   456\n",
      "    56\n",
      "     6\n",
      "    56\n",
      "   456\n",
      "  3456\n",
      " 23456\n",
      "123456\n"
     ]
    }
   ],
   "source": [
    "num=int(input(\"Enter the input: \"))\n",
    "k=1\n",
    "for i in range(1,num+1):\n",
    "    for j in range(1,k):\n",
    "        print(end=\" \")\n",
    "    k=k+1\n",
    "    for j in range(i,num+1):\n",
    "        print(j,end=\"\")\n",
    "    \n",
    "    print()\n",
    "k=num-1\n",
    "for i in range(1,num):\n",
    "    for j in range(1,k):\n",
    "        print(end=\" \")\n",
    "    k=k-1\n",
    "    for j in range(num-i,num+1):\n",
    "        print(j,end=\"\")\n",
    "    \n",
    "    print()"
   ]
  },
  {
   "cell_type": "code",
   "execution_count": 16,
   "metadata": {},
   "outputs": [
    {
     "name": "stdout",
     "output_type": "stream",
     "text": [
      "Enter the input: 6\n",
      "1 1 1 1 1 1 \n",
      " 2 2 2 2 2 \n",
      "  3 3 3 3 \n",
      "   4 4 4 \n",
      "    5 5 \n",
      "     6 \n"
     ]
    }
   ],
   "source": [
    "num=int(input(\"Enter the input: \"))\n",
    "k=0\n",
    "for i in range(1,num+1):\n",
    "    for j in range(1,k+1):\n",
    "        print(end=\" \")\n",
    "    k=k+1\n",
    "    for j in range(i,num+1):\n",
    "        print(i,end=\" \")\n",
    "    print()"
   ]
  },
  {
   "cell_type": "code",
   "execution_count": 17,
   "metadata": {},
   "outputs": [
    {
     "name": "stdout",
     "output_type": "stream",
     "text": [
      "Enter the input: 6\n",
      "1 \n",
      "1 0 \n",
      "1 0 1 \n",
      "1 0 1 0 \n",
      "1 0 1 0 1 \n",
      "1 0 1 0 1 0 \n"
     ]
    }
   ],
   "source": [
    "num=int(input(\"Enter the input: \"))\n",
    "for i in range(1,num+1):\n",
    "    for j in range(1,i+1):\n",
    "        if j%2==1:\n",
    "            print(1,end=\" \")\n",
    "        else:\n",
    "            print(0,end=\" \")\n",
    "        \n",
    "    print()"
   ]
  },
  {
   "cell_type": "code",
   "execution_count": 18,
   "metadata": {},
   "outputs": [
    {
     "name": "stdout",
     "output_type": "stream",
     "text": [
      "Enter the input: 6\n",
      "     *\n",
      "    ***\n",
      "   *****\n",
      "  *******\n",
      " *********\n",
      "***********\n"
     ]
    }
   ],
   "source": [
    "num=int(input(\"Enter the input: \"))\n",
    "k=num-1\n",
    "for i in range(1,num+1):\n",
    "    for j in range(1,k+1):\n",
    "        print(end=\" \")\n",
    "    k=k-1\n",
    "    for j in range(1,i*2):\n",
    "        print(\"*\",end=\"\")\n",
    "    print()\n",
    "    "
   ]
  },
  {
   "cell_type": "code",
   "execution_count": 19,
   "metadata": {},
   "outputs": [
    {
     "name": "stdout",
     "output_type": "stream",
     "text": [
      "Enter the input: 6\n",
      "     *\n",
      "    ***\n",
      "   *****\n",
      "  *******\n",
      " *********\n",
      "***********\n",
      " *********\n",
      "  *******\n",
      "   *****\n",
      "    ***\n",
      "     *\n"
     ]
    }
   ],
   "source": [
    "num=int(input(\"Enter the input: \"))\n",
    "k=num-1\n",
    "for i in range(1,num+1):\n",
    "    for j in range(1,k+1):\n",
    "        print(end=\" \")\n",
    "    k=k-1\n",
    "    for j in range(1,i*2):\n",
    "        print(\"*\",end=\"\")\n",
    "    print()\n",
    "k=1\n",
    "for i in range(num-1,0,-1):\n",
    "    for j in range(1,k+1):\n",
    "        print(end=\" \")\n",
    "    k=k+1\n",
    "    for j in range(1,i*2):\n",
    "        print(\"*\",end=\"\")\n",
    "    print()\n"
   ]
  },
  {
   "cell_type": "code",
   "execution_count": 22,
   "metadata": {},
   "outputs": [
    {
     "name": "stdout",
     "output_type": "stream",
     "text": [
      "Enter the input: 6\n",
      "000000\n",
      "010000\n",
      "002000\n",
      "000300\n",
      "000040\n",
      "000005\n"
     ]
    }
   ],
   "source": [
    "num=int(input(\"Enter the input: \"))\n",
    "for i in range(0,num):\n",
    "    for j in range(0,num):\n",
    "        if (i==j):\n",
    "            print(j,end=\"\")\n",
    "        else:\n",
    "            print(0,end=\"\")\n",
    "    print()"
   ]
  },
  {
   "cell_type": "code",
   "execution_count": 23,
   "metadata": {},
   "outputs": [
    {
     "name": "stdout",
     "output_type": "stream",
     "text": [
      "Enter the input: 6\n",
      "1 \n",
      "2 7 \n",
      "3 8 12 \n",
      "4 9 13 16 \n",
      "5 10 14 17 19 \n",
      "6 11 15 18 20 21 \n"
     ]
    }
   ],
   "source": [
    "num=int(input(\"Enter the input: \"))\n",
    "\n",
    "for i in range(1,num+1):\n",
    "    p=num-1\n",
    "    c=i\n",
    "    for j in range(1,i+1):\n",
    "        print(c,end=\" \")\n",
    "        c=c+p\n",
    "        p=p-1\n",
    "    print()"
   ]
  },
  {
   "cell_type": "code",
   "execution_count": null,
   "metadata": {},
   "outputs": [],
   "source": [
    "num1=input(\"enter value: \")\n",
    "num1=int(num1)\n",
    "n=num1\n",
    "for i in range(num1+1):\n",
    "    for k in range(0,num1-i):\n",
    "        print(\" \",end=\"\")\n",
    "    for j in range(2*i-1):\n",
    "        print(\"*\",end=\"\")\n",
    "    print(\"\\n\")\n",
    "for i in range(num1):\n",
    "    for k in range(0,2*i-i):\n",
    "        print(\" \",end=\"\")\n",
    "    for j in range(2*n-1):\n",
    "        print(\"*\",end=\"\")\n",
    "    print(\"\\n\")\n",
    "    n=n-1"
   ]
  },
  {
   "cell_type": "code",
   "execution_count": null,
   "metadata": {},
   "outputs": [],
   "source": []
  }
 ],
 "metadata": {
  "kernelspec": {
   "display_name": "Python 3",
   "language": "python",
   "name": "python3"
  },
  "language_info": {
   "codemirror_mode": {
    "name": "ipython",
    "version": 3
   },
   "file_extension": ".py",
   "mimetype": "text/x-python",
   "name": "python",
   "nbconvert_exporter": "python",
   "pygments_lexer": "ipython3",
   "version": "3.7.1"
  }
 },
 "nbformat": 4,
 "nbformat_minor": 2
}
